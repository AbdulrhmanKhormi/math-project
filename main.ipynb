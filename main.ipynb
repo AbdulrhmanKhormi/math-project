{
 "cells": [
  {
   "cell_type": "code",
   "execution_count": 80,
   "id": "initial_id",
   "metadata": {
    "collapsed": true,
    "ExecuteTime": {
     "end_time": "2023-11-30T00:18:42.873849Z",
     "start_time": "2023-11-30T00:18:37.055730Z"
    }
   },
   "outputs": [
    {
     "name": "stdout",
     "output_type": "stream",
     "text": [
      "Requirement already satisfied: numpy in /opt/homebrew/anaconda3/envs/math-project/lib/python3.11/site-packages (1.26.2)\r\n",
      "Requirement already satisfied: pandas in /opt/homebrew/anaconda3/envs/math-project/lib/python3.11/site-packages (2.1.3)\r\n",
      "Requirement already satisfied: numpy<2,>=1.23.2 in /opt/homebrew/anaconda3/envs/math-project/lib/python3.11/site-packages (from pandas) (1.26.2)\r\n",
      "Requirement already satisfied: python-dateutil>=2.8.2 in /opt/homebrew/anaconda3/envs/math-project/lib/python3.11/site-packages (from pandas) (2.8.2)\r\n",
      "Requirement already satisfied: pytz>=2020.1 in /opt/homebrew/anaconda3/envs/math-project/lib/python3.11/site-packages (from pandas) (2023.3.post1)\r\n",
      "Requirement already satisfied: tzdata>=2022.1 in /opt/homebrew/anaconda3/envs/math-project/lib/python3.11/site-packages (from pandas) (2023.3)\r\n",
      "Requirement already satisfied: six>=1.5 in /opt/homebrew/anaconda3/envs/math-project/lib/python3.11/site-packages (from python-dateutil>=2.8.2->pandas) (1.16.0)\r\n",
      "Requirement already satisfied: matplotlib in /opt/homebrew/anaconda3/envs/math-project/lib/python3.11/site-packages (3.8.2)\r\n",
      "Requirement already satisfied: contourpy>=1.0.1 in /opt/homebrew/anaconda3/envs/math-project/lib/python3.11/site-packages (from matplotlib) (1.2.0)\r\n",
      "Requirement already satisfied: cycler>=0.10 in /opt/homebrew/anaconda3/envs/math-project/lib/python3.11/site-packages (from matplotlib) (0.12.1)\r\n",
      "Requirement already satisfied: fonttools>=4.22.0 in /opt/homebrew/anaconda3/envs/math-project/lib/python3.11/site-packages (from matplotlib) (4.45.1)\r\n",
      "Requirement already satisfied: kiwisolver>=1.3.1 in /opt/homebrew/anaconda3/envs/math-project/lib/python3.11/site-packages (from matplotlib) (1.4.5)\r\n",
      "Requirement already satisfied: numpy<2,>=1.21 in /opt/homebrew/anaconda3/envs/math-project/lib/python3.11/site-packages (from matplotlib) (1.26.2)\r\n",
      "Requirement already satisfied: packaging>=20.0 in /opt/homebrew/anaconda3/envs/math-project/lib/python3.11/site-packages (from matplotlib) (23.1)\r\n",
      "Requirement already satisfied: pillow>=8 in /opt/homebrew/anaconda3/envs/math-project/lib/python3.11/site-packages (from matplotlib) (10.1.0)\r\n",
      "Requirement already satisfied: pyparsing>=2.3.1 in /opt/homebrew/anaconda3/envs/math-project/lib/python3.11/site-packages (from matplotlib) (3.1.1)\r\n",
      "Requirement already satisfied: python-dateutil>=2.7 in /opt/homebrew/anaconda3/envs/math-project/lib/python3.11/site-packages (from matplotlib) (2.8.2)\r\n",
      "Requirement already satisfied: six>=1.5 in /opt/homebrew/anaconda3/envs/math-project/lib/python3.11/site-packages (from python-dateutil>=2.7->matplotlib) (1.16.0)\r\n"
     ]
    }
   ],
   "source": [
    "!pip install numpy\n",
    "!pip install pandas\n",
    "!pip install matplotlib"
   ]
  },
  {
   "cell_type": "code",
   "execution_count": 81,
   "id": "1fd68e05900cf7e6",
   "metadata": {
    "collapsed": false,
    "ExecuteTime": {
     "end_time": "2023-11-30T00:18:42.897577Z",
     "start_time": "2023-11-30T00:18:42.868089Z"
    }
   },
   "outputs": [],
   "source": [
    "import numpy as np\n",
    "import pandas as pd\n",
    "import matplotlib.pyplot as plt"
   ]
  },
  {
   "cell_type": "code",
   "execution_count": 82,
   "id": "78b34ed64ec9a492",
   "metadata": {
    "collapsed": false,
    "ExecuteTime": {
     "end_time": "2023-11-30T00:18:43.094790Z",
     "start_time": "2023-11-30T00:18:42.924194Z"
    }
   },
   "outputs": [],
   "source": [
    "dataset = pd.read_csv('kc_house_data.csv')"
   ]
  },
  {
   "cell_type": "code",
   "execution_count": 83,
   "id": "9e38197ce83748a3",
   "metadata": {
    "collapsed": false,
    "ExecuteTime": {
     "end_time": "2023-11-30T00:18:43.163870Z",
     "start_time": "2023-11-30T00:18:43.075896Z"
    }
   },
   "outputs": [
    {
     "data": {
      "text/plain": "           id             date     price  bedrooms  bathrooms  sqft_living  \\\n0  7129300520  20141013T000000  221900.0         3       1.00         1180   \n1  6414100192  20141209T000000  538000.0         3       2.25         2570   \n2  5631500400  20150225T000000  180000.0         2       1.00          770   \n3  2487200875  20141209T000000  604000.0         4       3.00         1960   \n4  1954400510  20150218T000000  510000.0         3       2.00         1680   \n\n   sqft_lot  floors  waterfront  view  ...  grade  sqft_above  sqft_basement  \\\n0      5650     1.0           0     0  ...      7        1180              0   \n1      7242     2.0           0     0  ...      7        2170            400   \n2     10000     1.0           0     0  ...      6         770              0   \n3      5000     1.0           0     0  ...      7        1050            910   \n4      8080     1.0           0     0  ...      8        1680              0   \n\n   yr_built  yr_renovated  zipcode      lat     long  sqft_living15  \\\n0      1955             0    98178  47.5112 -122.257           1340   \n1      1951          1991    98125  47.7210 -122.319           1690   \n2      1933             0    98028  47.7379 -122.233           2720   \n3      1965             0    98136  47.5208 -122.393           1360   \n4      1987             0    98074  47.6168 -122.045           1800   \n\n   sqft_lot15  \n0        5650  \n1        7639  \n2        8062  \n3        5000  \n4        7503  \n\n[5 rows x 21 columns]",
      "text/html": "<div>\n<style scoped>\n    .dataframe tbody tr th:only-of-type {\n        vertical-align: middle;\n    }\n\n    .dataframe tbody tr th {\n        vertical-align: top;\n    }\n\n    .dataframe thead th {\n        text-align: right;\n    }\n</style>\n<table border=\"1\" class=\"dataframe\">\n  <thead>\n    <tr style=\"text-align: right;\">\n      <th></th>\n      <th>id</th>\n      <th>date</th>\n      <th>price</th>\n      <th>bedrooms</th>\n      <th>bathrooms</th>\n      <th>sqft_living</th>\n      <th>sqft_lot</th>\n      <th>floors</th>\n      <th>waterfront</th>\n      <th>view</th>\n      <th>...</th>\n      <th>grade</th>\n      <th>sqft_above</th>\n      <th>sqft_basement</th>\n      <th>yr_built</th>\n      <th>yr_renovated</th>\n      <th>zipcode</th>\n      <th>lat</th>\n      <th>long</th>\n      <th>sqft_living15</th>\n      <th>sqft_lot15</th>\n    </tr>\n  </thead>\n  <tbody>\n    <tr>\n      <th>0</th>\n      <td>7129300520</td>\n      <td>20141013T000000</td>\n      <td>221900.0</td>\n      <td>3</td>\n      <td>1.00</td>\n      <td>1180</td>\n      <td>5650</td>\n      <td>1.0</td>\n      <td>0</td>\n      <td>0</td>\n      <td>...</td>\n      <td>7</td>\n      <td>1180</td>\n      <td>0</td>\n      <td>1955</td>\n      <td>0</td>\n      <td>98178</td>\n      <td>47.5112</td>\n      <td>-122.257</td>\n      <td>1340</td>\n      <td>5650</td>\n    </tr>\n    <tr>\n      <th>1</th>\n      <td>6414100192</td>\n      <td>20141209T000000</td>\n      <td>538000.0</td>\n      <td>3</td>\n      <td>2.25</td>\n      <td>2570</td>\n      <td>7242</td>\n      <td>2.0</td>\n      <td>0</td>\n      <td>0</td>\n      <td>...</td>\n      <td>7</td>\n      <td>2170</td>\n      <td>400</td>\n      <td>1951</td>\n      <td>1991</td>\n      <td>98125</td>\n      <td>47.7210</td>\n      <td>-122.319</td>\n      <td>1690</td>\n      <td>7639</td>\n    </tr>\n    <tr>\n      <th>2</th>\n      <td>5631500400</td>\n      <td>20150225T000000</td>\n      <td>180000.0</td>\n      <td>2</td>\n      <td>1.00</td>\n      <td>770</td>\n      <td>10000</td>\n      <td>1.0</td>\n      <td>0</td>\n      <td>0</td>\n      <td>...</td>\n      <td>6</td>\n      <td>770</td>\n      <td>0</td>\n      <td>1933</td>\n      <td>0</td>\n      <td>98028</td>\n      <td>47.7379</td>\n      <td>-122.233</td>\n      <td>2720</td>\n      <td>8062</td>\n    </tr>\n    <tr>\n      <th>3</th>\n      <td>2487200875</td>\n      <td>20141209T000000</td>\n      <td>604000.0</td>\n      <td>4</td>\n      <td>3.00</td>\n      <td>1960</td>\n      <td>5000</td>\n      <td>1.0</td>\n      <td>0</td>\n      <td>0</td>\n      <td>...</td>\n      <td>7</td>\n      <td>1050</td>\n      <td>910</td>\n      <td>1965</td>\n      <td>0</td>\n      <td>98136</td>\n      <td>47.5208</td>\n      <td>-122.393</td>\n      <td>1360</td>\n      <td>5000</td>\n    </tr>\n    <tr>\n      <th>4</th>\n      <td>1954400510</td>\n      <td>20150218T000000</td>\n      <td>510000.0</td>\n      <td>3</td>\n      <td>2.00</td>\n      <td>1680</td>\n      <td>8080</td>\n      <td>1.0</td>\n      <td>0</td>\n      <td>0</td>\n      <td>...</td>\n      <td>8</td>\n      <td>1680</td>\n      <td>0</td>\n      <td>1987</td>\n      <td>0</td>\n      <td>98074</td>\n      <td>47.6168</td>\n      <td>-122.045</td>\n      <td>1800</td>\n      <td>7503</td>\n    </tr>\n  </tbody>\n</table>\n<p>5 rows × 21 columns</p>\n</div>"
     },
     "execution_count": 83,
     "metadata": {},
     "output_type": "execute_result"
    }
   ],
   "source": [
    "dataset.head()"
   ]
  },
  {
   "cell_type": "code",
   "execution_count": 84,
   "id": "5ec3a22dff97ae33",
   "metadata": {
    "collapsed": false,
    "ExecuteTime": {
     "end_time": "2023-11-30T00:18:44.616730Z",
     "start_time": "2023-11-30T00:18:43.147849Z"
    }
   },
   "outputs": [
    {
     "data": {
      "text/plain": "                 id         price      bedrooms     bathrooms   sqft_living  \\\ncount  2.161300e+04  2.161300e+04  21613.000000  21613.000000  21613.000000   \nmean   4.580302e+09  5.400881e+05      3.370842      2.114757   2079.899736   \nstd    2.876566e+09  3.671272e+05      0.930062      0.770163    918.440897   \nmin    1.000102e+06  7.500000e+04      0.000000      0.000000    290.000000   \n25%    2.123049e+09  3.219500e+05      3.000000      1.750000   1427.000000   \n50%    3.904930e+09  4.500000e+05      3.000000      2.250000   1910.000000   \n75%    7.308900e+09  6.450000e+05      4.000000      2.500000   2550.000000   \nmax    9.900000e+09  7.700000e+06     33.000000      8.000000  13540.000000   \n\n           sqft_lot        floors    waterfront          view     condition  \\\ncount  2.161300e+04  21613.000000  21613.000000  21613.000000  21613.000000   \nmean   1.510697e+04      1.494309      0.007542      0.234303      3.409430   \nstd    4.142051e+04      0.539989      0.086517      0.766318      0.650743   \nmin    5.200000e+02      1.000000      0.000000      0.000000      1.000000   \n25%    5.040000e+03      1.000000      0.000000      0.000000      3.000000   \n50%    7.618000e+03      1.500000      0.000000      0.000000      3.000000   \n75%    1.068800e+04      2.000000      0.000000      0.000000      4.000000   \nmax    1.651359e+06      3.500000      1.000000      4.000000      5.000000   \n\n              grade    sqft_above  sqft_basement      yr_built  yr_renovated  \\\ncount  21613.000000  21613.000000   21613.000000  21613.000000  21613.000000   \nmean       7.656873   1788.390691     291.509045   1971.005136     84.402258   \nstd        1.175459    828.090978     442.575043     29.373411    401.679240   \nmin        1.000000    290.000000       0.000000   1900.000000      0.000000   \n25%        7.000000   1190.000000       0.000000   1951.000000      0.000000   \n50%        7.000000   1560.000000       0.000000   1975.000000      0.000000   \n75%        8.000000   2210.000000     560.000000   1997.000000      0.000000   \nmax       13.000000   9410.000000    4820.000000   2015.000000   2015.000000   \n\n            zipcode           lat          long  sqft_living15     sqft_lot15  \ncount  21613.000000  21613.000000  21613.000000   21613.000000   21613.000000  \nmean   98077.939805     47.560053   -122.213896    1986.552492   12768.455652  \nstd       53.505026      0.138564      0.140828     685.391304   27304.179631  \nmin    98001.000000     47.155900   -122.519000     399.000000     651.000000  \n25%    98033.000000     47.471000   -122.328000    1490.000000    5100.000000  \n50%    98065.000000     47.571800   -122.230000    1840.000000    7620.000000  \n75%    98118.000000     47.678000   -122.125000    2360.000000   10083.000000  \nmax    98199.000000     47.777600   -121.315000    6210.000000  871200.000000  ",
      "text/html": "<div>\n<style scoped>\n    .dataframe tbody tr th:only-of-type {\n        vertical-align: middle;\n    }\n\n    .dataframe tbody tr th {\n        vertical-align: top;\n    }\n\n    .dataframe thead th {\n        text-align: right;\n    }\n</style>\n<table border=\"1\" class=\"dataframe\">\n  <thead>\n    <tr style=\"text-align: right;\">\n      <th></th>\n      <th>id</th>\n      <th>price</th>\n      <th>bedrooms</th>\n      <th>bathrooms</th>\n      <th>sqft_living</th>\n      <th>sqft_lot</th>\n      <th>floors</th>\n      <th>waterfront</th>\n      <th>view</th>\n      <th>condition</th>\n      <th>grade</th>\n      <th>sqft_above</th>\n      <th>sqft_basement</th>\n      <th>yr_built</th>\n      <th>yr_renovated</th>\n      <th>zipcode</th>\n      <th>lat</th>\n      <th>long</th>\n      <th>sqft_living15</th>\n      <th>sqft_lot15</th>\n    </tr>\n  </thead>\n  <tbody>\n    <tr>\n      <th>count</th>\n      <td>2.161300e+04</td>\n      <td>2.161300e+04</td>\n      <td>21613.000000</td>\n      <td>21613.000000</td>\n      <td>21613.000000</td>\n      <td>2.161300e+04</td>\n      <td>21613.000000</td>\n      <td>21613.000000</td>\n      <td>21613.000000</td>\n      <td>21613.000000</td>\n      <td>21613.000000</td>\n      <td>21613.000000</td>\n      <td>21613.000000</td>\n      <td>21613.000000</td>\n      <td>21613.000000</td>\n      <td>21613.000000</td>\n      <td>21613.000000</td>\n      <td>21613.000000</td>\n      <td>21613.000000</td>\n      <td>21613.000000</td>\n    </tr>\n    <tr>\n      <th>mean</th>\n      <td>4.580302e+09</td>\n      <td>5.400881e+05</td>\n      <td>3.370842</td>\n      <td>2.114757</td>\n      <td>2079.899736</td>\n      <td>1.510697e+04</td>\n      <td>1.494309</td>\n      <td>0.007542</td>\n      <td>0.234303</td>\n      <td>3.409430</td>\n      <td>7.656873</td>\n      <td>1788.390691</td>\n      <td>291.509045</td>\n      <td>1971.005136</td>\n      <td>84.402258</td>\n      <td>98077.939805</td>\n      <td>47.560053</td>\n      <td>-122.213896</td>\n      <td>1986.552492</td>\n      <td>12768.455652</td>\n    </tr>\n    <tr>\n      <th>std</th>\n      <td>2.876566e+09</td>\n      <td>3.671272e+05</td>\n      <td>0.930062</td>\n      <td>0.770163</td>\n      <td>918.440897</td>\n      <td>4.142051e+04</td>\n      <td>0.539989</td>\n      <td>0.086517</td>\n      <td>0.766318</td>\n      <td>0.650743</td>\n      <td>1.175459</td>\n      <td>828.090978</td>\n      <td>442.575043</td>\n      <td>29.373411</td>\n      <td>401.679240</td>\n      <td>53.505026</td>\n      <td>0.138564</td>\n      <td>0.140828</td>\n      <td>685.391304</td>\n      <td>27304.179631</td>\n    </tr>\n    <tr>\n      <th>min</th>\n      <td>1.000102e+06</td>\n      <td>7.500000e+04</td>\n      <td>0.000000</td>\n      <td>0.000000</td>\n      <td>290.000000</td>\n      <td>5.200000e+02</td>\n      <td>1.000000</td>\n      <td>0.000000</td>\n      <td>0.000000</td>\n      <td>1.000000</td>\n      <td>1.000000</td>\n      <td>290.000000</td>\n      <td>0.000000</td>\n      <td>1900.000000</td>\n      <td>0.000000</td>\n      <td>98001.000000</td>\n      <td>47.155900</td>\n      <td>-122.519000</td>\n      <td>399.000000</td>\n      <td>651.000000</td>\n    </tr>\n    <tr>\n      <th>25%</th>\n      <td>2.123049e+09</td>\n      <td>3.219500e+05</td>\n      <td>3.000000</td>\n      <td>1.750000</td>\n      <td>1427.000000</td>\n      <td>5.040000e+03</td>\n      <td>1.000000</td>\n      <td>0.000000</td>\n      <td>0.000000</td>\n      <td>3.000000</td>\n      <td>7.000000</td>\n      <td>1190.000000</td>\n      <td>0.000000</td>\n      <td>1951.000000</td>\n      <td>0.000000</td>\n      <td>98033.000000</td>\n      <td>47.471000</td>\n      <td>-122.328000</td>\n      <td>1490.000000</td>\n      <td>5100.000000</td>\n    </tr>\n    <tr>\n      <th>50%</th>\n      <td>3.904930e+09</td>\n      <td>4.500000e+05</td>\n      <td>3.000000</td>\n      <td>2.250000</td>\n      <td>1910.000000</td>\n      <td>7.618000e+03</td>\n      <td>1.500000</td>\n      <td>0.000000</td>\n      <td>0.000000</td>\n      <td>3.000000</td>\n      <td>7.000000</td>\n      <td>1560.000000</td>\n      <td>0.000000</td>\n      <td>1975.000000</td>\n      <td>0.000000</td>\n      <td>98065.000000</td>\n      <td>47.571800</td>\n      <td>-122.230000</td>\n      <td>1840.000000</td>\n      <td>7620.000000</td>\n    </tr>\n    <tr>\n      <th>75%</th>\n      <td>7.308900e+09</td>\n      <td>6.450000e+05</td>\n      <td>4.000000</td>\n      <td>2.500000</td>\n      <td>2550.000000</td>\n      <td>1.068800e+04</td>\n      <td>2.000000</td>\n      <td>0.000000</td>\n      <td>0.000000</td>\n      <td>4.000000</td>\n      <td>8.000000</td>\n      <td>2210.000000</td>\n      <td>560.000000</td>\n      <td>1997.000000</td>\n      <td>0.000000</td>\n      <td>98118.000000</td>\n      <td>47.678000</td>\n      <td>-122.125000</td>\n      <td>2360.000000</td>\n      <td>10083.000000</td>\n    </tr>\n    <tr>\n      <th>max</th>\n      <td>9.900000e+09</td>\n      <td>7.700000e+06</td>\n      <td>33.000000</td>\n      <td>8.000000</td>\n      <td>13540.000000</td>\n      <td>1.651359e+06</td>\n      <td>3.500000</td>\n      <td>1.000000</td>\n      <td>4.000000</td>\n      <td>5.000000</td>\n      <td>13.000000</td>\n      <td>9410.000000</td>\n      <td>4820.000000</td>\n      <td>2015.000000</td>\n      <td>2015.000000</td>\n      <td>98199.000000</td>\n      <td>47.777600</td>\n      <td>-121.315000</td>\n      <td>6210.000000</td>\n      <td>871200.000000</td>\n    </tr>\n  </tbody>\n</table>\n</div>"
     },
     "execution_count": 84,
     "metadata": {},
     "output_type": "execute_result"
    }
   ],
   "source": [
    "dataset.describe()"
   ]
  },
  {
   "cell_type": "code",
   "execution_count": 85,
   "id": "97a920eacc3d88f5",
   "metadata": {
    "collapsed": false,
    "ExecuteTime": {
     "end_time": "2023-11-30T00:18:45.155767Z",
     "start_time": "2023-11-30T00:18:43.230322Z"
    }
   },
   "outputs": [
    {
     "name": "stdout",
     "output_type": "stream",
     "text": [
      "<class 'pandas.core.frame.DataFrame'>\n",
      "RangeIndex: 21613 entries, 0 to 21612\n",
      "Data columns (total 21 columns):\n",
      " #   Column         Non-Null Count  Dtype  \n",
      "---  ------         --------------  -----  \n",
      " 0   id             21613 non-null  int64  \n",
      " 1   date           21613 non-null  object \n",
      " 2   price          21613 non-null  float64\n",
      " 3   bedrooms       21613 non-null  int64  \n",
      " 4   bathrooms      21613 non-null  float64\n",
      " 5   sqft_living    21613 non-null  int64  \n",
      " 6   sqft_lot       21613 non-null  int64  \n",
      " 7   floors         21613 non-null  float64\n",
      " 8   waterfront     21613 non-null  int64  \n",
      " 9   view           21613 non-null  int64  \n",
      " 10  condition      21613 non-null  int64  \n",
      " 11  grade          21613 non-null  int64  \n",
      " 12  sqft_above     21613 non-null  int64  \n",
      " 13  sqft_basement  21613 non-null  int64  \n",
      " 14  yr_built       21613 non-null  int64  \n",
      " 15  yr_renovated   21613 non-null  int64  \n",
      " 16  zipcode        21613 non-null  int64  \n",
      " 17  lat            21613 non-null  float64\n",
      " 18  long           21613 non-null  float64\n",
      " 19  sqft_living15  21613 non-null  int64  \n",
      " 20  sqft_lot15     21613 non-null  int64  \n",
      "dtypes: float64(5), int64(15), object(1)\n",
      "memory usage: 3.5+ MB\n"
     ]
    }
   ],
   "source": [
    "dataset.info()"
   ]
  },
  {
   "cell_type": "code",
   "execution_count": 86,
   "id": "ba32d4be106105d1",
   "metadata": {
    "collapsed": false,
    "ExecuteTime": {
     "end_time": "2023-11-30T00:18:47.537909Z",
     "start_time": "2023-11-30T00:18:43.280272Z"
    }
   },
   "outputs": [
    {
     "data": {
      "text/plain": "<Figure size 640x480 with 1 Axes>",
      "image/png": "[encoded data removed]"
     },
     "metadata": {},
     "output_type": "display_data"
    }
   ],
   "source": [
    "# (a) fit a linear model to the data using the least squares method\n",
    "\n",
    "dataset.plot(x='sqft_living', y='price', style='o')\n",
    "plt.title('sqft_living vs price')\n",
    "plt.xlabel('sqft_living')\n",
    "plt.ylabel('price')\n",
    "plt.show()\n"
   ]
  },
  {
   "cell_type": "code",
   "execution_count": 87,
   "id": "7344bea02e21f7a5",
   "metadata": {
    "collapsed": false,
    "ExecuteTime": {
     "end_time": "2023-11-30T00:18:47.561309Z",
     "start_time": "2023-11-30T00:18:44.096087Z"
    }
   },
   "outputs": [
    {
     "name": "stdout",
     "output_type": "stream",
     "text": [
      "0        1180\n",
      "1        2570\n",
      "2         770\n",
      "3        1960\n",
      "4        1680\n",
      "         ... \n",
      "21608    1530\n",
      "21609    2310\n",
      "21610    1020\n",
      "21611    1600\n",
      "21612    1020\n",
      "Name: sqft_living, Length: 21613, dtype: int64\n",
      "[221900. 538000. 180000. ... 402101. 400000. 325000.]\n",
      "[1.99222279e+05 6.79940947e+01 3.85812609e-02]\n"
     ]
    }
   ],
   "source": [
    "x = dataset['sqft_living']\n",
    "y = dataset['price']\n",
    "\n",
    "all_ones = np.ones(len(x))\n",
    "At = np.array([all_ones, x, x ** 2], dtype=float)\n",
    "\n",
    "A = np.transpose(At)\n",
    "y = np.array(y, dtype=float)\n",
    "\n",
    "B = np.dot(At, A)\n",
    "b = np.dot(At, y)\n",
    "print(x)\n",
    "print(y)\n",
    "print(np.linalg.solve(B, b))"
   ]
  },
  {
   "cell_type": "code",
   "execution_count": 88,
   "id": "1e439fdb7bf52356",
   "metadata": {
    "collapsed": false,
    "ExecuteTime": {
     "end_time": "2023-11-30T00:18:47.586535Z",
     "start_time": "2023-11-30T00:18:44.097837Z"
    }
   },
   "outputs": [
    {
     "name": "stdout",
     "output_type": "stream",
     "text": [
      "0.005416609322542455\n"
     ]
    }
   ],
   "source": [
    "Y = np.dot(A, np.linalg.solve(B, b))\n",
    "# find error\n",
    "error = np.linalg.norm((y - Y)**2)\n",
    "percentage = error / np.linalg.norm(y)**2\n",
    "print(percentage)\n"
   ]
  },
  {
   "cell_type": "code",
   "execution_count": 89,
   "id": "4a3c3214b6c69c48",
   "metadata": {
    "collapsed": false,
    "ExecuteTime": {
     "end_time": "2023-11-30T00:18:49.541903Z",
     "start_time": "2023-11-30T00:18:44.157536Z"
    }
   },
   "outputs": [
    {
     "data": {
      "text/plain": "<Figure size 640x480 with 1 Axes>",
      "image/png": "[encoded data removed]"
     },
     "metadata": {},
     "output_type": "display_data"
    }
   ],
   "source": [
    "# plot the best fit line\n",
    "plt.scatter(x, y, color='black')\n",
    "plt.scatter(x, Y, color='red', linewidth=1)\n",
    "plt.title('sqft_living vs price')\n",
    "plt.xlabel('sqft_living')\n",
    "plt.ylabel('price')\n",
    "plt.show()"
   ]
  },
  {
   "cell_type": "code",
   "execution_count": 90,
   "id": "9fcf5a39d7be0ba",
   "metadata": {
    "collapsed": false,
    "ExecuteTime": {
     "end_time": "2023-11-30T00:18:49.574792Z",
     "start_time": "2023-11-30T00:18:44.530318Z"
    }
   },
   "outputs": [],
   "source": [
    "price = dataset['price']\n",
    "sqft_living = dataset['sqft_living']"
   ]
  },
  {
   "cell_type": "code",
   "execution_count": 91,
   "id": "a910617bb465d68f",
   "metadata": {
    "collapsed": false,
    "ExecuteTime": {
     "end_time": "2023-11-30T00:18:49.575338Z",
     "start_time": "2023-11-30T00:18:44.537565Z"
    }
   },
   "outputs": [],
   "source": [
    "# Add a column of ones to sqft_living for the intercept term\n",
    "A = np.column_stack((np.ones(sqft_living.shape[0]), sqft_living))\n",
    "\n",
    "# Your vector b is the price\n",
    "b = price.values"
   ]
  },
  {
   "cell_type": "code",
   "execution_count": null,
   "id": "d6a99e402b326fa7",
   "metadata": {
    "collapsed": false,
    "is_executing": true,
    "ExecuteTime": {
     "start_time": "2023-11-30T00:18:44.736439Z"
    }
   },
   "outputs": [
    {
     "name": "stdout",
     "output_type": "stream",
     "text": [
      "m is : 21613\n",
      "n is : 2\n"
     ]
    }
   ],
   "source": [
    "# Householder QR Decomposition function\n",
    "def householderQR(A):\n",
    "    m, n = A.shape\n",
    "    Q = np.eye(m)  # Initialize Q as an identity matrix\n",
    "    print(f\"m is : {m}\")\n",
    "    print(f\"n is : {n}\")\n",
    "    \n",
    "    for j in range(n):\n",
    "        # Calculate the Householder vector\n",
    "        x = A[j:, j]\n",
    "        v = np.sign(x[0]) * np.linalg.norm(x) * np.eye(len(x), 1).flatten() + x\n",
    "        v = v / np.linalg.norm(v)\n",
    "\n",
    "        # Form the Householder matrix\n",
    "        Hj = np.eye(m)\n",
    "        Hj[j:, j:] -= 2 * np.outer(v, v)\n",
    "\n",
    "        # print(f\"--------- H{j+1} is -----------\")\n",
    "        # print(Hj)  # Display Hj\n",
    "        # Apply the Householder transformation\n",
    "        A = np.dot(Hj, A)\n",
    "        Q = np.dot(Q, Hj)  # Update Q\n",
    "\n",
    "    R = A\n",
    "    return Q, R\n",
    "\n",
    "# Perform the decomposition\n",
    "Q, R = householderQR(A)"
   ]
  },
  {
   "cell_type": "code",
   "execution_count": null,
   "id": "3820134c55d906d0",
   "metadata": {
    "is_executing": true
   },
   "outputs": [],
   "source": [
    "# Reconstruct A from Q and R\n",
    "A_reconstructed = np.dot(Q, R)\n",
    "# set R small values to zero\n",
    "R[np.abs(R) < 1e-10] = 0\n",
    "print(R)\n",
    "# export the data of R to csv file\n",
    "np.savetxt(\"R.csv\", R, delimiter=\",\")\n",
    "\n",
    "\n"
   ]
  },
  {
   "cell_type": "code",
   "execution_count": null,
   "metadata": {
    "is_executing": true
   },
   "outputs": [],
   "source": [
    "# Compute vector b as Q-transpose times y\n",
    "b_vec = np.dot(np.transpose(Q), b)\n",
    "# make b_vec as np array\n",
    "b_vec = np.array(b_vec)\n",
    "print(b_vec.shape)\n",
    "print(R.shape)\n",
    "np.savetxt(\"B.csv\", b_vec, delimiter=\",\")"
   ],
   "id": "1ba2ac26eb8d7fff"
  },
  {
   "cell_type": "code",
   "execution_count": null,
   "metadata": {
    "is_executing": true
   },
   "outputs": [],
   "source": [
    "def backward_substitution(A, b):\n",
    "    # Solve for the coefficients (prices) using backward substitution\n",
    "    m, n = A.shape\n",
    "    x = np.zeros(n)\n",
    "\n",
    "    for i in range(n-1, -1, -1):\n",
    "        x[i] = (b[i] - np.dot(A[i, i+1:], x[i+1:])) / A[i, i]\n",
    "\n",
    "    return x\n"
   ],
   "id": "148db0ffdc034a2d"
  },
  {
   "cell_type": "code",
   "execution_count": null,
   "metadata": {
    "is_executing": true
   },
   "outputs": [],
   "source": [
    "# Solve for the polynomial coefficients\n",
    "coefficients = backward_substitution(R, b_vec)\n",
    "print(coefficients)"
   ],
   "id": "2747b66e5d13e08c"
  },
  {
   "cell_type": "code",
   "execution_count": null,
   "metadata": {
    "is_executing": true
   },
   "outputs": [],
   "source": [
    "# Define the polynomial function\n",
    "def polynomial(x, coeffs):\n",
    "    # This assumes coeffs is [beta_0, beta_1, beta_2]\n",
    "    return coeffs[0] + coeffs[1]*x\n"
   ],
   "id": "cd1b17a33a337ac3"
  },
  {
   "cell_type": "code",
   "execution_count": null,
   "metadata": {
    "is_executing": true
   },
   "outputs": [],
   "source": [
    "# Create a string representation of the polynomial\n",
    "polynomial_str = f'Price = {coefficients[0]} + {coefficients[1]}*SquareFootage'\n",
    "print(polynomial_str)"
   ],
   "id": "759edaa71ab26daf"
  },
  {
   "cell_type": "code",
   "execution_count": null,
   "metadata": {
    "is_executing": true
   },
   "outputs": [],
   "source": [
    "# Plot the data and the polynomial fit\n",
    "plt.plot(sqft_living, price, 'o')\n",
    "plt.plot(sqft_living, polynomial(sqft_living, coefficients))\n",
    "plt.title(\"Price vs. Square Footage\")\n",
    "plt.xlabel(\"Square Footage\")\n",
    "plt.ylabel(\"Price\")\n",
    "plt.grid(True)\n",
    "plt.show()\n"
   ],
   "id": "3af3905515a613aa"
  },
  {
   "cell_type": "code",
   "execution_count": null,
   "metadata": {
    "is_executing": true
   },
   "outputs": [],
   "source": [
    "# find the error\n",
    "def error(y, y_hat):\n",
    "    return np.linalg.norm(y - y_hat)**2 / np.linalg.norm(y)**2"
   ],
   "id": "7e8b0194c0408978"
  },
  {
   "cell_type": "code",
   "execution_count": null,
   "metadata": {
    "is_executing": true
   },
   "outputs": [],
   "source": [
    "error = error(price, polynomial(sqft_living, coefficients))\n",
    "print(f\"Error is: {error}\")\n",
    "# present the error in percentage\n",
    "print(f\"Error in percentage is: {error * 100}%\")\n"
   ],
   "id": "2e952f54a4f51e19"
  }
 ],
 "metadata": {
  "kernelspec": {
   "display_name": "Python 3",
   "language": "python",
   "name": "python3"
  },
  "language_info": {
   "codemirror_mode": {
    "name": "ipython",
    "version": 3
   },
   "file_extension": ".py",
   "mimetype": "text/x-python",
   "name": "python",
   "nbconvert_exporter": "python",
   "pygments_lexer": "ipython3",
   "version": "3.11.5"
  }
 },
 "nbformat": 4,
 "nbformat_minor": 5
}
