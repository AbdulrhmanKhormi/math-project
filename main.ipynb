{
 "cells": [
  {
   "cell_type": "code",
   "execution_count": 255,
   "id": "initial_id",
   "metadata": {
    "ExecuteTime": {
     "end_time": "2023-11-30T00:18:42.873849Z",
     "start_time": "2023-11-30T00:18:37.055730Z"
    },
    "collapsed": true
   },
   "outputs": [
    {
     "name": "stdout",
     "output_type": "stream",
     "text": [
      "Requirement already satisfied: numpy in /opt/homebrew/anaconda3/envs/math-project/lib/python3.11/site-packages (1.26.2)\n",
      "Requirement already satisfied: pandas in /opt/homebrew/anaconda3/envs/math-project/lib/python3.11/site-packages (2.1.3)\n",
      "Requirement already satisfied: numpy<2,>=1.23.2 in /opt/homebrew/anaconda3/envs/math-project/lib/python3.11/site-packages (from pandas) (1.26.2)\n",
      "Requirement already satisfied: python-dateutil>=2.8.2 in /opt/homebrew/anaconda3/envs/math-project/lib/python3.11/site-packages (from pandas) (2.8.2)\n",
      "Requirement already satisfied: pytz>=2020.1 in /opt/homebrew/anaconda3/envs/math-project/lib/python3.11/site-packages (from pandas) (2023.3.post1)\n",
      "Requirement already satisfied: tzdata>=2022.1 in /opt/homebrew/anaconda3/envs/math-project/lib/python3.11/site-packages (from pandas) (2023.3)\n",
      "Requirement already satisfied: six>=1.5 in /opt/homebrew/anaconda3/envs/math-project/lib/python3.11/site-packages (from python-dateutil>=2.8.2->pandas) (1.16.0)\n",
      "Requirement already satisfied: matplotlib in /opt/homebrew/anaconda3/envs/math-project/lib/python3.11/site-packages (3.8.2)\n",
      "Requirement already satisfied: contourpy>=1.0.1 in /opt/homebrew/anaconda3/envs/math-project/lib/python3.11/site-packages (from matplotlib) (1.2.0)\n",
      "Requirement already satisfied: cycler>=0.10 in /opt/homebrew/anaconda3/envs/math-project/lib/python3.11/site-packages (from matplotlib) (0.12.1)\n",
      "Requirement already satisfied: fonttools>=4.22.0 in /opt/homebrew/anaconda3/envs/math-project/lib/python3.11/site-packages (from matplotlib) (4.45.1)\n",
      "Requirement already satisfied: kiwisolver>=1.3.1 in /opt/homebrew/anaconda3/envs/math-project/lib/python3.11/site-packages (from matplotlib) (1.4.5)\n",
      "Requirement already satisfied: numpy<2,>=1.21 in /opt/homebrew/anaconda3/envs/math-project/lib/python3.11/site-packages (from matplotlib) (1.26.2)\n",
      "Requirement already satisfied: packaging>=20.0 in /opt/homebrew/anaconda3/envs/math-project/lib/python3.11/site-packages (from matplotlib) (23.1)\n",
      "Requirement already satisfied: pillow>=8 in /opt/homebrew/anaconda3/envs/math-project/lib/python3.11/site-packages (from matplotlib) (10.1.0)\n",
      "Requirement already satisfied: pyparsing>=2.3.1 in /opt/homebrew/anaconda3/envs/math-project/lib/python3.11/site-packages (from matplotlib) (3.1.1)\n",
      "Requirement already satisfied: python-dateutil>=2.7 in /opt/homebrew/anaconda3/envs/math-project/lib/python3.11/site-packages (from matplotlib) (2.8.2)\n",
      "Requirement already satisfied: six>=1.5 in /opt/homebrew/anaconda3/envs/math-project/lib/python3.11/site-packages (from python-dateutil>=2.7->matplotlib) (1.16.0)\n"
     ]
    }
   ],
   "source": [
    "!pip install numpy\n",
    "!pip install pandas\n",
    "!pip install matplotlib"
   ]
  },
  {
   "cell_type": "code",
   "execution_count": 256,
   "id": "1fd68e05900cf7e6",
   "metadata": {
    "ExecuteTime": {
     "end_time": "2023-11-30T00:18:42.897577Z",
     "start_time": "2023-11-30T00:18:42.868089Z"
    },
    "collapsed": false
   },
   "outputs": [],
   "source": [
    "import numpy as np\n",
    "import pandas as pd\n",
    "import matplotlib.pyplot as plt"
   ]
  },
  {
   "cell_type": "code",
   "execution_count": 257,
   "id": "78b34ed64ec9a492",
   "metadata": {
    "ExecuteTime": {
     "end_time": "2023-11-30T00:18:43.094790Z",
     "start_time": "2023-11-30T00:18:42.924194Z"
    },
    "collapsed": false
   },
   "outputs": [],
   "source": [
    "dataset = pd.read_csv('kc_house_data.csv')"
   ]
  },
  {
   "cell_type": "code",
   "execution_count": 258,
   "id": "5ec3a22dff97ae33",
   "metadata": {
    "ExecuteTime": {
     "end_time": "2023-11-30T00:18:44.616730Z",
     "start_time": "2023-11-30T00:18:43.147849Z"
    },
    "collapsed": false
   },
   "outputs": [
    {
     "data": {
      "text/html": [
       "<div>\n",
       "<style scoped>\n",
       "    .dataframe tbody tr th:only-of-type {\n",
       "        vertical-align: middle;\n",
       "    }\n",
       "\n",
       "    .dataframe tbody tr th {\n",
       "        vertical-align: top;\n",
       "    }\n",
       "\n",
       "    .dataframe thead th {\n",
       "        text-align: right;\n",
       "    }\n",
       "</style>\n",
       "<table border=\"1\" class=\"dataframe\">\n",
       "  <thead>\n",
       "    <tr style=\"text-align: right;\">\n",
       "      <th></th>\n",
       "      <th>id</th>\n",
       "      <th>price</th>\n",
       "      <th>bedrooms</th>\n",
       "      <th>bathrooms</th>\n",
       "      <th>sqft_living</th>\n",
       "      <th>sqft_lot</th>\n",
       "      <th>floors</th>\n",
       "      <th>waterfront</th>\n",
       "      <th>view</th>\n",
       "      <th>condition</th>\n",
       "      <th>grade</th>\n",
       "      <th>sqft_above</th>\n",
       "      <th>sqft_basement</th>\n",
       "      <th>yr_built</th>\n",
       "      <th>yr_renovated</th>\n",
       "      <th>zipcode</th>\n",
       "      <th>lat</th>\n",
       "      <th>long</th>\n",
       "      <th>sqft_living15</th>\n",
       "      <th>sqft_lot15</th>\n",
       "    </tr>\n",
       "  </thead>\n",
       "  <tbody>\n",
       "    <tr>\n",
       "      <th>count</th>\n",
       "      <td>2.161300e+04</td>\n",
       "      <td>2.161300e+04</td>\n",
       "      <td>21613.000000</td>\n",
       "      <td>21613.000000</td>\n",
       "      <td>21613.000000</td>\n",
       "      <td>2.161300e+04</td>\n",
       "      <td>21613.000000</td>\n",
       "      <td>21613.000000</td>\n",
       "      <td>21613.000000</td>\n",
       "      <td>21613.000000</td>\n",
       "      <td>21613.000000</td>\n",
       "      <td>21613.000000</td>\n",
       "      <td>21613.000000</td>\n",
       "      <td>21613.000000</td>\n",
       "      <td>21613.000000</td>\n",
       "      <td>21613.000000</td>\n",
       "      <td>21613.000000</td>\n",
       "      <td>21613.000000</td>\n",
       "      <td>21613.000000</td>\n",
       "      <td>21613.000000</td>\n",
       "    </tr>\n",
       "    <tr>\n",
       "      <th>mean</th>\n",
       "      <td>4.580302e+09</td>\n",
       "      <td>5.400881e+05</td>\n",
       "      <td>3.370842</td>\n",
       "      <td>2.114757</td>\n",
       "      <td>2079.899736</td>\n",
       "      <td>1.510697e+04</td>\n",
       "      <td>1.494309</td>\n",
       "      <td>0.007542</td>\n",
       "      <td>0.234303</td>\n",
       "      <td>3.409430</td>\n",
       "      <td>7.656873</td>\n",
       "      <td>1788.390691</td>\n",
       "      <td>291.509045</td>\n",
       "      <td>1971.005136</td>\n",
       "      <td>84.402258</td>\n",
       "      <td>98077.939805</td>\n",
       "      <td>47.560053</td>\n",
       "      <td>-122.213896</td>\n",
       "      <td>1986.552492</td>\n",
       "      <td>12768.455652</td>\n",
       "    </tr>\n",
       "    <tr>\n",
       "      <th>std</th>\n",
       "      <td>2.876566e+09</td>\n",
       "      <td>3.671272e+05</td>\n",
       "      <td>0.930062</td>\n",
       "      <td>0.770163</td>\n",
       "      <td>918.440897</td>\n",
       "      <td>4.142051e+04</td>\n",
       "      <td>0.539989</td>\n",
       "      <td>0.086517</td>\n",
       "      <td>0.766318</td>\n",
       "      <td>0.650743</td>\n",
       "      <td>1.175459</td>\n",
       "      <td>828.090978</td>\n",
       "      <td>442.575043</td>\n",
       "      <td>29.373411</td>\n",
       "      <td>401.679240</td>\n",
       "      <td>53.505026</td>\n",
       "      <td>0.138564</td>\n",
       "      <td>0.140828</td>\n",
       "      <td>685.391304</td>\n",
       "      <td>27304.179631</td>\n",
       "    </tr>\n",
       "    <tr>\n",
       "      <th>min</th>\n",
       "      <td>1.000102e+06</td>\n",
       "      <td>7.500000e+04</td>\n",
       "      <td>0.000000</td>\n",
       "      <td>0.000000</td>\n",
       "      <td>290.000000</td>\n",
       "      <td>5.200000e+02</td>\n",
       "      <td>1.000000</td>\n",
       "      <td>0.000000</td>\n",
       "      <td>0.000000</td>\n",
       "      <td>1.000000</td>\n",
       "      <td>1.000000</td>\n",
       "      <td>290.000000</td>\n",
       "      <td>0.000000</td>\n",
       "      <td>1900.000000</td>\n",
       "      <td>0.000000</td>\n",
       "      <td>98001.000000</td>\n",
       "      <td>47.155900</td>\n",
       "      <td>-122.519000</td>\n",
       "      <td>399.000000</td>\n",
       "      <td>651.000000</td>\n",
       "    </tr>\n",
       "    <tr>\n",
       "      <th>25%</th>\n",
       "      <td>2.123049e+09</td>\n",
       "      <td>3.219500e+05</td>\n",
       "      <td>3.000000</td>\n",
       "      <td>1.750000</td>\n",
       "      <td>1427.000000</td>\n",
       "      <td>5.040000e+03</td>\n",
       "      <td>1.000000</td>\n",
       "      <td>0.000000</td>\n",
       "      <td>0.000000</td>\n",
       "      <td>3.000000</td>\n",
       "      <td>7.000000</td>\n",
       "      <td>1190.000000</td>\n",
       "      <td>0.000000</td>\n",
       "      <td>1951.000000</td>\n",
       "      <td>0.000000</td>\n",
       "      <td>98033.000000</td>\n",
       "      <td>47.471000</td>\n",
       "      <td>-122.328000</td>\n",
       "      <td>1490.000000</td>\n",
       "      <td>5100.000000</td>\n",
       "    </tr>\n",
       "    <tr>\n",
       "      <th>50%</th>\n",
       "      <td>3.904930e+09</td>\n",
       "      <td>4.500000e+05</td>\n",
       "      <td>3.000000</td>\n",
       "      <td>2.250000</td>\n",
       "      <td>1910.000000</td>\n",
       "      <td>7.618000e+03</td>\n",
       "      <td>1.500000</td>\n",
       "      <td>0.000000</td>\n",
       "      <td>0.000000</td>\n",
       "      <td>3.000000</td>\n",
       "      <td>7.000000</td>\n",
       "      <td>1560.000000</td>\n",
       "      <td>0.000000</td>\n",
       "      <td>1975.000000</td>\n",
       "      <td>0.000000</td>\n",
       "      <td>98065.000000</td>\n",
       "      <td>47.571800</td>\n",
       "      <td>-122.230000</td>\n",
       "      <td>1840.000000</td>\n",
       "      <td>7620.000000</td>\n",
       "    </tr>\n",
       "    <tr>\n",
       "      <th>75%</th>\n",
       "      <td>7.308900e+09</td>\n",
       "      <td>6.450000e+05</td>\n",
       "      <td>4.000000</td>\n",
       "      <td>2.500000</td>\n",
       "      <td>2550.000000</td>\n",
       "      <td>1.068800e+04</td>\n",
       "      <td>2.000000</td>\n",
       "      <td>0.000000</td>\n",
       "      <td>0.000000</td>\n",
       "      <td>4.000000</td>\n",
       "      <td>8.000000</td>\n",
       "      <td>2210.000000</td>\n",
       "      <td>560.000000</td>\n",
       "      <td>1997.000000</td>\n",
       "      <td>0.000000</td>\n",
       "      <td>98118.000000</td>\n",
       "      <td>47.678000</td>\n",
       "      <td>-122.125000</td>\n",
       "      <td>2360.000000</td>\n",
       "      <td>10083.000000</td>\n",
       "    </tr>\n",
       "    <tr>\n",
       "      <th>max</th>\n",
       "      <td>9.900000e+09</td>\n",
       "      <td>7.700000e+06</td>\n",
       "      <td>33.000000</td>\n",
       "      <td>8.000000</td>\n",
       "      <td>13540.000000</td>\n",
       "      <td>1.651359e+06</td>\n",
       "      <td>3.500000</td>\n",
       "      <td>1.000000</td>\n",
       "      <td>4.000000</td>\n",
       "      <td>5.000000</td>\n",
       "      <td>13.000000</td>\n",
       "      <td>9410.000000</td>\n",
       "      <td>4820.000000</td>\n",
       "      <td>2015.000000</td>\n",
       "      <td>2015.000000</td>\n",
       "      <td>98199.000000</td>\n",
       "      <td>47.777600</td>\n",
       "      <td>-121.315000</td>\n",
       "      <td>6210.000000</td>\n",
       "      <td>871200.000000</td>\n",
       "    </tr>\n",
       "  </tbody>\n",
       "</table>\n",
       "</div>"
      ],
      "text/plain": [
       "                 id         price      bedrooms     bathrooms   sqft_living  \\\n",
       "count  2.161300e+04  2.161300e+04  21613.000000  21613.000000  21613.000000   \n",
       "mean   4.580302e+09  5.400881e+05      3.370842      2.114757   2079.899736   \n",
       "std    2.876566e+09  3.671272e+05      0.930062      0.770163    918.440897   \n",
       "min    1.000102e+06  7.500000e+04      0.000000      0.000000    290.000000   \n",
       "25%    2.123049e+09  3.219500e+05      3.000000      1.750000   1427.000000   \n",
       "50%    3.904930e+09  4.500000e+05      3.000000      2.250000   1910.000000   \n",
       "75%    7.308900e+09  6.450000e+05      4.000000      2.500000   2550.000000   \n",
       "max    9.900000e+09  7.700000e+06     33.000000      8.000000  13540.000000   \n",
       "\n",
       "           sqft_lot        floors    waterfront          view     condition  \\\n",
       "count  2.161300e+04  21613.000000  21613.000000  21613.000000  21613.000000   \n",
       "mean   1.510697e+04      1.494309      0.007542      0.234303      3.409430   \n",
       "std    4.142051e+04      0.539989      0.086517      0.766318      0.650743   \n",
       "min    5.200000e+02      1.000000      0.000000      0.000000      1.000000   \n",
       "25%    5.040000e+03      1.000000      0.000000      0.000000      3.000000   \n",
       "50%    7.618000e+03      1.500000      0.000000      0.000000      3.000000   \n",
       "75%    1.068800e+04      2.000000      0.000000      0.000000      4.000000   \n",
       "max    1.651359e+06      3.500000      1.000000      4.000000      5.000000   \n",
       "\n",
       "              grade    sqft_above  sqft_basement      yr_built  yr_renovated  \\\n",
       "count  21613.000000  21613.000000   21613.000000  21613.000000  21613.000000   \n",
       "mean       7.656873   1788.390691     291.509045   1971.005136     84.402258   \n",
       "std        1.175459    828.090978     442.575043     29.373411    401.679240   \n",
       "min        1.000000    290.000000       0.000000   1900.000000      0.000000   \n",
       "25%        7.000000   1190.000000       0.000000   1951.000000      0.000000   \n",
       "50%        7.000000   1560.000000       0.000000   1975.000000      0.000000   \n",
       "75%        8.000000   2210.000000     560.000000   1997.000000      0.000000   \n",
       "max       13.000000   9410.000000    4820.000000   2015.000000   2015.000000   \n",
       "\n",
       "            zipcode           lat          long  sqft_living15     sqft_lot15  \n",
       "count  21613.000000  21613.000000  21613.000000   21613.000000   21613.000000  \n",
       "mean   98077.939805     47.560053   -122.213896    1986.552492   12768.455652  \n",
       "std       53.505026      0.138564      0.140828     685.391304   27304.179631  \n",
       "min    98001.000000     47.155900   -122.519000     399.000000     651.000000  \n",
       "25%    98033.000000     47.471000   -122.328000    1490.000000    5100.000000  \n",
       "50%    98065.000000     47.571800   -122.230000    1840.000000    7620.000000  \n",
       "75%    98118.000000     47.678000   -122.125000    2360.000000   10083.000000  \n",
       "max    98199.000000     47.777600   -121.315000    6210.000000  871200.000000  "
      ]
     },
     "execution_count": 258,
     "metadata": {},
     "output_type": "execute_result"
    }
   ],
   "source": [
    "dataset.describe()"
   ]
  },
  {
   "cell_type": "code",
   "execution_count": 259,
   "id": "97a920eacc3d88f5",
   "metadata": {
    "ExecuteTime": {
     "end_time": "2023-11-30T00:18:45.155767Z",
     "start_time": "2023-11-30T00:18:43.230322Z"
    },
    "collapsed": false
   },
   "outputs": [
    {
     "name": "stdout",
     "output_type": "stream",
     "text": [
      "<class 'pandas.core.frame.DataFrame'>\n",
      "RangeIndex: 21613 entries, 0 to 21612\n",
      "Data columns (total 21 columns):\n",
      " #   Column         Non-Null Count  Dtype  \n",
      "---  ------         --------------  -----  \n",
      " 0   id             21613 non-null  int64  \n",
      " 1   date           21613 non-null  object \n",
      " 2   price          21613 non-null  float64\n",
      " 3   bedrooms       21613 non-null  int64  \n",
      " 4   bathrooms      21613 non-null  float64\n",
      " 5   sqft_living    21613 non-null  int64  \n",
      " 6   sqft_lot       21613 non-null  int64  \n",
      " 7   floors         21613 non-null  float64\n",
      " 8   waterfront     21613 non-null  int64  \n",
      " 9   view           21613 non-null  int64  \n",
      " 10  condition      21613 non-null  int64  \n",
      " 11  grade          21613 non-null  int64  \n",
      " 12  sqft_above     21613 non-null  int64  \n",
      " 13  sqft_basement  21613 non-null  int64  \n",
      " 14  yr_built       21613 non-null  int64  \n",
      " 15  yr_renovated   21613 non-null  int64  \n",
      " 16  zipcode        21613 non-null  int64  \n",
      " 17  lat            21613 non-null  float64\n",
      " 18  long           21613 non-null  float64\n",
      " 19  sqft_living15  21613 non-null  int64  \n",
      " 20  sqft_lot15     21613 non-null  int64  \n",
      "dtypes: float64(5), int64(15), object(1)\n",
      "memory usage: 3.5+ MB\n"
     ]
    }
   ],
   "source": [
    "dataset.info()"
   ]
  },
  {
   "cell_type": "code",
   "execution_count": 260,
   "id": "ba32d4be106105d1",
   "metadata": {
    "ExecuteTime": {
     "end_time": "2023-11-30T00:18:47.537909Z",
     "start_time": "2023-11-30T00:18:43.280272Z"
    },
    "collapsed": false
   },
   "outputs": [
    {
     "data": {
      "image/png": "[encoded data removed]",
      "text/plain": [
       "<Figure size 640x480 with 1 Axes>"
      ]
     },
     "metadata": {},
     "output_type": "display_data"
    }
   ],
   "source": [
    "# (a) fit a linear model to the data using the least squares method\n",
    "\n",
    "dataset.plot(x='sqft_living', y='price', style='o')\n",
    "plt.title('sqft_living vs price')\n",
    "plt.xlabel('sqft_living')\n",
    "plt.ylabel('price')\n",
    "plt.show()\n"
   ]
  },
  {
   "cell_type": "code",
   "execution_count": 261,
   "id": "7344bea02e21f7a5",
   "metadata": {
    "ExecuteTime": {
     "end_time": "2023-11-30T00:18:47.561309Z",
     "start_time": "2023-11-30T00:18:44.096087Z"
    },
    "collapsed": false
   },
   "outputs": [
    {
     "name": "stdout",
     "output_type": "stream",
     "text": [
      "0        1180\n",
      "1        2570\n",
      "2         770\n",
      "3        1960\n",
      "4        1680\n",
      "         ... \n",
      "21608    1530\n",
      "21609    2310\n",
      "21610    1020\n",
      "21611    1600\n",
      "21612    1020\n",
      "Name: sqft_living, Length: 21613, dtype: int64\n",
      "[221900. 538000. 180000. ... 402101. 400000. 325000.]\n",
      "[1.99222279e+05 6.79940947e+01 3.85812609e-02]\n"
     ]
    }
   ],
   "source": [
    "x = dataset['sqft_living']\n",
    "y = dataset['price']\n",
    "\n",
    "all_ones = np.ones(len(x))\n",
    "At = np.array([all_ones, x, x ** 2], dtype=float)\n",
    "\n",
    "A = np.transpose(At)\n",
    "y = np.array(y, dtype=float)\n",
    "\n",
    "B = np.dot(At, A)\n",
    "b = np.dot(At, y)\n",
    "print(x)\n",
    "print(y)\n",
    "print(np.linalg.solve(B, b))"
   ]
  },
  {
   "cell_type": "code",
   "execution_count": 262,
   "id": "1e439fdb7bf52356",
   "metadata": {
    "ExecuteTime": {
     "end_time": "2023-11-30T00:18:47.586535Z",
     "start_time": "2023-11-30T00:18:44.097837Z"
    },
    "collapsed": false
   },
   "outputs": [
    {
     "name": "stdout",
     "output_type": "stream",
     "text": [
      "Error in percentage is: 0.005416609322542455%\n"
     ]
    }
   ],
   "source": [
    "Y = np.dot(A, np.linalg.solve(B, b))\n",
    "# find error\n",
    "error = np.linalg.norm((y - Y)**2)\n",
    "percentage = error / np.linalg.norm(y)**2\n",
    "print(f\"Error in percentage is: {percentage}%\")"
   ]
  },
  {
   "cell_type": "code",
   "execution_count": 263,
   "id": "4a3c3214b6c69c48",
   "metadata": {
    "ExecuteTime": {
     "end_time": "2023-11-30T00:18:49.541903Z",
     "start_time": "2023-11-30T00:18:44.157536Z"
    },
    "collapsed": false
   },
   "outputs": [
    {
     "data": {
      "image/png": "[encoded data removed]",
      "text/plain": [
       "<Figure size 640x480 with 1 Axes>"
      ]
     },
     "metadata": {},
     "output_type": "display_data"
    }
   ],
   "source": [
    "# plot the best fit line\n",
    "plt.scatter(x, y, color='black')\n",
    "plt.scatter(x, Y, color='red', linewidth=1)\n",
    "plt.title('sqft_living vs price')\n",
    "plt.xlabel('sqft_living')\n",
    "plt.ylabel('price')\n",
    "plt.show()"
   ]
  },
  {
   "cell_type": "code",
   "execution_count": 264,
   "id": "9fcf5a39d7be0ba",
   "metadata": {
    "ExecuteTime": {
     "end_time": "2023-11-30T00:18:49.574792Z",
     "start_time": "2023-11-30T00:18:44.530318Z"
    },
    "collapsed": false
   },
   "outputs": [],
   "source": [
    "price = dataset['price']\n",
    "sqft_living = dataset['sqft_living']"
   ]
  },
  {
   "cell_type": "code",
   "execution_count": 265,
   "id": "a910617bb465d68f",
   "metadata": {
    "ExecuteTime": {
     "end_time": "2023-11-30T00:18:49.575338Z",
     "start_time": "2023-11-30T00:18:44.537565Z"
    },
    "collapsed": false
   },
   "outputs": [],
   "source": [
    "# Add a column of ones to sqft_living for the intercept term\n",
    "A = np.column_stack((np.ones(sqft_living.shape[0]), sqft_living))\n",
    "y = price.values"
   ]
  },
  {
   "cell_type": "code",
   "execution_count": 291,
   "id": "d6a99e402b326fa7",
   "metadata": {
    "ExecuteTime": {
     "start_time": "2023-11-30T00:18:44.736439Z"
    },
    "collapsed": false,
    "is_executing": true
   },
   "outputs": [],
   "source": [
    "# Householder QR Decomposition function\n",
    "def householderQR(A):\n",
    "    m, n = A.shape\n",
    "    Q = np.eye(m)  # Initialize Q as an identity matrix\n",
    "    print(f\"m is : {m}\")\n",
    "    print(f\"n is : {n}\")\n",
    "    \n",
    "    for j in range(n):\n",
    "        # Calculate the Householder vector\n",
    "        x = A[j:, j]\n",
    "        v = np.sign(x[0]) * np.linalg.norm(x) * np.eye(len(x), 1).flatten() + x\n",
    "        v = v / np.linalg.norm(v)\n",
    "\n",
    "        # Form the Householder matrix\n",
    "        Hj = np.eye(m)\n",
    "        Hj[j:, j:] -= 2 * np.outer(v, v)\n",
    "\n",
    "        print(f\"--------- H{j+1} -----------\")\n",
    "        # Apply the Householder transformation\n",
    "        A = np.dot(Hj, A)\n",
    "        Q = np.dot(Q, Hj)  # Update Q\n",
    "\n",
    "    R = A\n",
    "    return Q, R\n",
    "\n",
    "# Perform the decomposition\n",
    "Q, R = np.linalg.qr(A)"
   ]
  },
  {
   "cell_type": "code",
   "execution_count": 292,
   "id": "3820134c55d906d0",
   "metadata": {
    "is_executing": true
   },
   "outputs": [
    {
     "name": "stdout",
     "output_type": "stream",
     "text": [
      "[[-1.47013605e+02 -3.05773558e+05]\n",
      " [ 0.00000000e+00 -1.35020183e+05]]\n"
     ]
    }
   ],
   "source": [
    "# Reconstruct A from Q and R\n",
    "A_reconstructed = np.dot(Q, R)\n",
    "# set R small values to zero\n",
    "R[np.abs(R) < 1e-10] = 0\n",
    "print(R)\n",
    "# export the data of R to csv file\n",
    "np.savetxt(\"R.csv\", R, delimiter=\",\")\n",
    "\n",
    "\n"
   ]
  },
  {
   "cell_type": "code",
   "execution_count": 293,
   "id": "1ba2ac26eb8d7fff",
   "metadata": {
    "is_executing": true
   },
   "outputs": [
    {
     "name": "stdout",
     "output_type": "stream",
     "text": [
      "(2,)\n",
      "(2, 2)\n"
     ]
    }
   ],
   "source": [
    "# Compute vector b as Q-transpose times y\n",
    "b = np.dot(np.transpose(Q), y)\n",
    "# make b_vec as np array\n",
    "b_vec = np.array(b)\n",
    "print(b.shape)\n",
    "print(R.shape)\n",
    "np.savetxt(\"B.csv\", b_vec, delimiter=\",\")"
   ]
  },
  {
   "cell_type": "code",
   "execution_count": 294,
   "id": "148db0ffdc034a2d",
   "metadata": {
    "is_executing": true
   },
   "outputs": [],
   "source": [
    "def backward_substitution(A, b):\n",
    "    # Solve for the coefficients (prices) using backward substitution\n",
    "    m, n = A.shape\n",
    "    x = np.zeros(n)\n",
    "\n",
    "    for i in range(n-1, -1, -1):\n",
    "        x[i] = (b[i] - np.dot(A[i, i+1:], x[i+1:])) / A[i, i]\n",
    "\n",
    "    return x\n"
   ]
  },
  {
   "cell_type": "code",
   "execution_count": 295,
   "id": "2747b66e5d13e08c",
   "metadata": {
    "is_executing": true
   },
   "outputs": [
    {
     "name": "stdout",
     "output_type": "stream",
     "text": [
      "[-43580.74309446    280.6235679 ]\n"
     ]
    }
   ],
   "source": [
    "# Solve for the polynomial coefficients\n",
    "coefficients = backward_substitution(R, b)\n",
    "print(coefficients)"
   ]
  },
  {
   "cell_type": "code",
   "execution_count": 296,
   "id": "cd1b17a33a337ac3",
   "metadata": {
    "is_executing": true
   },
   "outputs": [],
   "source": [
    "# Define the polynomial function\n",
    "def polynomial(x, coeffs):\n",
    "    # This assumes coeffs is [beta_0, beta_1, beta_2]\n",
    "    return coeffs[0] + coeffs[1]*x\n"
   ]
  },
  {
   "cell_type": "code",
   "execution_count": 297,
   "id": "759edaa71ab26daf",
   "metadata": {
    "is_executing": true
   },
   "outputs": [
    {
     "name": "stdout",
     "output_type": "stream",
     "text": [
      "Price = -43580.74309446248 + 280.62356789744416*SquareFootage\n"
     ]
    }
   ],
   "source": [
    "# Create a string representation of the polynomial\n",
    "polynomial_str = f'Price = {coefficients[0]} + {coefficients[1]}*SquareFootage'\n",
    "print(polynomial_str)"
   ]
  },
  {
   "cell_type": "code",
   "execution_count": 298,
   "id": "7e8b0194c0408978",
   "metadata": {
    "is_executing": true
   },
   "outputs": [],
   "source": [
    "# find the error for first order polynomial\n",
    "def error(y, y_hat):\n",
    "    return np.linalg.norm(y - y_hat)**2 / np.linalg.norm(y)**2"
   ]
  },
  {
   "cell_type": "code",
   "execution_count": 299,
   "id": "2e952f54a4f51e19",
   "metadata": {
    "is_executing": true
   },
   "outputs": [
    {
     "name": "stdout",
     "output_type": "stream",
     "text": [
      "Error is: 0.160271699232623\n",
      "Error in percentage is: 16.0271699232623%\n"
     ]
    }
   ],
   "source": [
    "error = error(price, polynomial(sqft_living, coefficients))\n",
    "print(f\"Error is: {error}\")\n",
    "# present the error in percentage\n",
    "print(f\"Error in percentage is: {error * 100}%\")\n"
   ]
  },
  {
   "cell_type": "code",
   "execution_count": 300,
   "metadata": {},
   "outputs": [],
   "source": [
    "t = sqft_living\n",
    "y = price.values\n",
    "t_squared = t ** 2\n",
    "\n",
    "A_2 = np.column_stack((np.ones(t.shape[0]), t, t_squared))"
   ]
  },
  {
   "cell_type": "code",
   "execution_count": 301,
   "metadata": {},
   "outputs": [],
   "source": [
    "# Perform the decomposition using numpy QR factorization\n",
    "Q, R = np.linalg.qr(A_2)"
   ]
  },
  {
   "cell_type": "code",
   "execution_count": 302,
   "metadata": {},
   "outputs": [],
   "source": [
    "# Compute vector b as Q-transpose times y\n",
    "b = np.dot(Q.T, y)\n"
   ]
  },
  {
   "cell_type": "code",
   "execution_count": 303,
   "metadata": {},
   "outputs": [
    {
     "name": "stdout",
     "output_type": "stream",
     "text": [
      "[1.99222279e+05 6.79940947e+01 3.85812609e-02]\n"
     ]
    }
   ],
   "source": [
    "# Solve for the polynomial coefficients\n",
    "coefficients_2 = backward_substitution(R, b)\n",
    "print(coefficients_2)"
   ]
  },
  {
   "cell_type": "code",
   "execution_count": 304,
   "metadata": {},
   "outputs": [],
   "source": [
    "# Update the polynomial function\n",
    "def polynomial_2(x, z, coeffs):\n",
    "    # This assumes coeffs is [beta_0, beta_1 (for sqft_living), beta_2 (for sqft_living^2)]\n",
    "    return coeffs[0] + coeffs[1]*x + coeffs[2]*z"
   ]
  },
  {
   "cell_type": "code",
   "execution_count": 305,
   "metadata": {},
   "outputs": [
    {
     "name": "stdout",
     "output_type": "stream",
     "text": [
      "Price = 199222.27930549977 + 67.99409468578425*SquareFootage + 0.0385812609372035*SquareFootage^2\n"
     ]
    }
   ],
   "source": [
    "# Update the string representation of the polynomial\n",
    "polynomial_str = f'Price = {coefficients_2[0]} + {coefficients_2[1]}*SquareFootage + {coefficients_2[2]}*SquareFootage^2'\n",
    "print(polynomial_str)"
   ]
  },
  {
   "cell_type": "code",
   "execution_count": 306,
   "metadata": {},
   "outputs": [
    {
     "data": {
      "image/png": "[encoded data removed]",
      "text/plain": [
       "<Figure size 1000x600 with 1 Axes>"
      ]
     },
     "metadata": {},
     "output_type": "display_data"
    }
   ],
   "source": [
    "plt.figure(figsize=(10, 6))\n",
    "plt.scatter(sqft_living, price, color='#88807B', linewidth=1)\n",
    "plt.scatter(sqft_living, polynomial(sqft_living, coefficients), color='dodgerblue', linewidth=1)\n",
    "plt.scatter(t, np.dot(A_2, coefficients_2), color='#00A86B', linewidth=1, label='2nd order')\n",
    "plt.title(\"Price vs. Square Foot of Living Space\")\n",
    "plt.xlabel(\"Square Foot of Living Space\")\n",
    "plt.ylabel(\"Price\")\n",
    "plt.grid(True)\n",
    "plt.show()\n"
   ]
  },
  {
   "cell_type": "code",
   "execution_count": 307,
   "metadata": {},
   "outputs": [
    {
     "name": "stdout",
     "output_type": "stream",
     "text": [
      "Error is: 0.14766545098399603\n",
      "Error in percentage is: 14.766545098399602%\n"
     ]
    }
   ],
   "source": [
    "# find the error for second order polynomial\n",
    "def error(y, y_hat):\n",
    "    return np.linalg.norm(y - y_hat)**2 / np.linalg.norm(y)**2\n",
    "\n",
    "error = error(price, polynomial_2(sqft_living, t_squared, coefficients_2))\n",
    "print(f\"Error is: {error}\")\n",
    "# present the error in percentage\n",
    "print(f\"Error in percentage is: {error * 100}%\")"
   ]
  }
 ],
 "metadata": {
  "kernelspec": {
   "display_name": "Python 3",
   "language": "python",
   "name": "python3"
  },
  "language_info": {
   "codemirror_mode": {
    "name": "ipython",
    "version": 3
   },
   "file_extension": ".py",
   "mimetype": "text/x-python",
   "name": "python",
   "nbconvert_exporter": "python",
   "pygments_lexer": "ipython3",
   "version": "3.11.5"
  }
 },
 "nbformat": 4,
 "nbformat_minor": 5
}
